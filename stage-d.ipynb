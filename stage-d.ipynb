{
 "cells": [
  {
   "cell_type": "code",
   "execution_count": 1,
   "id": "d862cf2d",
   "metadata": {
    "_cell_guid": "b1076dfc-b9ad-4769-8c92-a6c4dae69d19",
    "_uuid": "8f2839f25d086af736a60e9eeb907d3b93b6e0e5",
    "execution": {
     "iopub.execute_input": "2023-01-16T18:27:01.525404Z",
     "iopub.status.busy": "2023-01-16T18:27:01.524791Z",
     "iopub.status.idle": "2023-01-16T18:27:01.559781Z",
     "shell.execute_reply": "2023-01-16T18:27:01.558556Z"
    },
    "papermill": {
     "duration": 0.047452,
     "end_time": "2023-01-16T18:27:01.562624",
     "exception": false,
     "start_time": "2023-01-16T18:27:01.515172",
     "status": "completed"
    },
    "tags": []
   },
   "outputs": [
    {
     "data": {
      "text/plain": [
       "['sample_submission.csv', 'test-jpg', 'train_classes.csv', 'train-jpg']"
      ]
     },
     "execution_count": 1,
     "metadata": {},
     "output_type": "execute_result"
    }
   ],
   "source": [
    "# This Python 3 environment comes with many helpful analytics libraries installed\n",
    "# It is defined by the kaggle/python Docker image: https://github.com/kaggle/docker-python\n",
    "# For example, here's several helpful packages to load\n",
    "\n",
    "import numpy as np # linear algebra\n",
    "import pandas as pd # data processing, CSV file I/O (e.g. pd.read_csv)\n",
    "\n",
    "# Input data files are available in the read-only \"../input/\" directory\n",
    "# For example, running this (by clicking run or pressing Shift+Enter) will list all files under the input directory\n",
    "\n",
    "import os\n",
    "path = \"../input/planets-dataset/planet/planet\"\n",
    "os.listdir(path)\n",
    "\n",
    "# You can write up to 20GB to the current directory (/kaggle/working/) that gets preserved as output when you create a version using \"Save & Run All\" \n",
    "# You can also write temporary files to /kaggle/temp/, but they won't be saved outside of the current session"
   ]
  },
  {
   "cell_type": "code",
   "execution_count": 2,
   "id": "cdfde30c",
   "metadata": {
    "execution": {
     "iopub.execute_input": "2023-01-16T18:27:01.577517Z",
     "iopub.status.busy": "2023-01-16T18:27:01.576867Z",
     "iopub.status.idle": "2023-01-16T18:27:10.201108Z",
     "shell.execute_reply": "2023-01-16T18:27:10.199778Z"
    },
    "papermill": {
     "duration": 8.635163,
     "end_time": "2023-01-16T18:27:10.204098",
     "exception": false,
     "start_time": "2023-01-16T18:27:01.568935",
     "status": "completed"
    },
    "tags": []
   },
   "outputs": [],
   "source": [
    "import os\n",
    "import cv2\n",
    "import pandas as pd\n",
    "import numpy as np\n",
    "import gc\n",
    "import matplotlib.pyplot as plt\n",
    "from matplotlib.image import imread\n",
    "from sklearn.metrics import fbeta_score\n",
    "from tqdm import tqdm\n",
    "import tensorflow as tf\n",
    "from keras import optimizers\n",
    "from tensorflow.keras.models import Sequential \n",
    "from tensorflow.keras.preprocessing.image import ImageDataGenerator\n",
    "from tensorflow.keras.layers import Input , Dense , Dropout , Flatten,\\\n",
    "Conv2D,MaxPooling2D , BatchNormalization\n",
    "from keras.callbacks import ModelCheckpoint, EarlyStopping, ReduceLROnPlateau, History\n",
    "import tensorflow_addons as tfa"
   ]
  },
  {
   "cell_type": "code",
   "execution_count": 3,
   "id": "3f86b0d7",
   "metadata": {
    "execution": {
     "iopub.execute_input": "2023-01-16T18:27:10.218446Z",
     "iopub.status.busy": "2023-01-16T18:27:10.217657Z",
     "iopub.status.idle": "2023-01-16T18:27:10.432083Z",
     "shell.execute_reply": "2023-01-16T18:27:10.430879Z"
    },
    "papermill": {
     "duration": 0.224573,
     "end_time": "2023-01-16T18:27:10.434743",
     "exception": false,
     "start_time": "2023-01-16T18:27:10.210170",
     "status": "completed"
    },
    "tags": []
   },
   "outputs": [
    {
     "data": {
      "text/html": [
       "<div>\n",
       "<style scoped>\n",
       "    .dataframe tbody tr th:only-of-type {\n",
       "        vertical-align: middle;\n",
       "    }\n",
       "\n",
       "    .dataframe tbody tr th {\n",
       "        vertical-align: top;\n",
       "    }\n",
       "\n",
       "    .dataframe thead th {\n",
       "        text-align: right;\n",
       "    }\n",
       "</style>\n",
       "<table border=\"1\" class=\"dataframe\">\n",
       "  <thead>\n",
       "    <tr style=\"text-align: right;\">\n",
       "      <th></th>\n",
       "      <th>image_name</th>\n",
       "      <th>tags</th>\n",
       "    </tr>\n",
       "  </thead>\n",
       "  <tbody>\n",
       "    <tr>\n",
       "      <th>0</th>\n",
       "      <td>train_0</td>\n",
       "      <td>haze primary</td>\n",
       "    </tr>\n",
       "    <tr>\n",
       "      <th>1</th>\n",
       "      <td>train_1</td>\n",
       "      <td>agriculture clear primary water</td>\n",
       "    </tr>\n",
       "    <tr>\n",
       "      <th>2</th>\n",
       "      <td>train_2</td>\n",
       "      <td>clear primary</td>\n",
       "    </tr>\n",
       "    <tr>\n",
       "      <th>3</th>\n",
       "      <td>train_3</td>\n",
       "      <td>clear primary</td>\n",
       "    </tr>\n",
       "    <tr>\n",
       "      <th>4</th>\n",
       "      <td>train_4</td>\n",
       "      <td>agriculture clear habitation primary road</td>\n",
       "    </tr>\n",
       "  </tbody>\n",
       "</table>\n",
       "</div>"
      ],
      "text/plain": [
       "  image_name                                       tags\n",
       "0    train_0                               haze primary\n",
       "1    train_1            agriculture clear primary water\n",
       "2    train_2                              clear primary\n",
       "3    train_3                              clear primary\n",
       "4    train_4  agriculture clear habitation primary road"
      ]
     },
     "execution_count": 3,
     "metadata": {},
     "output_type": "execute_result"
    }
   ],
   "source": [
    "train_paths = os.path.join(path,\"train_classes.csv\")\n",
    "train_dir = os.path.join(path,'train-jpg')\n",
    "submission_df = os.path.join(path,'sample_submission.csv')\n",
    "test_dir = os.path.join(path,'test-jpg')\n",
    "\n",
    "train_df = pd.read_csv(train_paths)\n",
    "submission_df = pd.read_csv(submission_df)\n",
    "train_df.head()"
   ]
  },
  {
   "cell_type": "code",
   "execution_count": 4,
   "id": "8509876b",
   "metadata": {
    "execution": {
     "iopub.execute_input": "2023-01-16T18:27:10.449948Z",
     "iopub.status.busy": "2023-01-16T18:27:10.449503Z",
     "iopub.status.idle": "2023-01-16T18:27:10.457514Z",
     "shell.execute_reply": "2023-01-16T18:27:10.456184Z"
    },
    "papermill": {
     "duration": 0.018407,
     "end_time": "2023-01-16T18:27:10.459896",
     "exception": false,
     "start_time": "2023-01-16T18:27:10.441489",
     "status": "completed"
    },
    "tags": []
   },
   "outputs": [],
   "source": [
    "def data_preprocess(data):\n",
    "    \n",
    "    # Getting all Unique Classification (Target)\n",
    "    labels = data['tags'].to_numpy()\n",
    "    set_labels = list()\n",
    "    for label in labels:\n",
    "        tags = label.split()\n",
    "        for tag in tags:\n",
    "            if tag not in set_labels:\n",
    "                set_labels.append(tag)\n",
    "    # Encoding Classes (targets)\n",
    "    for set_label in set_labels:\n",
    "        data[set_label]=data[\"tags\"].apply(lambda x: 1 if set_label in x.split() else 0)\n",
    "    \n",
    "    # Adding .jpg to each images name to be able to iterate through them\n",
    "    data['image_name'] = data['image_name'].apply(lambda x: x+\".jpg\")\n",
    "    return data \n"
   ]
  },
  {
   "cell_type": "code",
   "execution_count": 5,
   "id": "e1ee282a",
   "metadata": {
    "execution": {
     "iopub.execute_input": "2023-01-16T18:27:10.474903Z",
     "iopub.status.busy": "2023-01-16T18:27:10.473751Z",
     "iopub.status.idle": "2023-01-16T18:27:10.978116Z",
     "shell.execute_reply": "2023-01-16T18:27:10.976713Z"
    },
    "papermill": {
     "duration": 0.515041,
     "end_time": "2023-01-16T18:27:10.981096",
     "exception": false,
     "start_time": "2023-01-16T18:27:10.466055",
     "status": "completed"
    },
    "tags": []
   },
   "outputs": [],
   "source": [
    "df_train = data_preprocess(train_df)\n",
    "\n",
    "def img_generator(training=True,batch_size=128,target_size=(128,128)):\n",
    "    # Function that geneerate the images data\n",
    "    if training:\n",
    "        train_generator = ImageDataGenerator(rescale = 1./255, validation_split = 0.2)\n",
    "        train_gen = train_generator.flow_from_dataframe(dataframe=df_train,\n",
    "                                              directory = train_dir,  \n",
    "                                              x_col=\"image_name\", \n",
    "                                              y_col= df_train.columns.to_list()[2:], \n",
    "                                              subset=\"training\", \n",
    "                                              batch_size=batch_size,\n",
    "                                              seed=42, \n",
    "                                              shuffle = True, \n",
    "                                              class_mode=\"raw\", \n",
    "                                              target_size=target_size)\n",
    "        # val_set contains 20 percent of images \n",
    "        val_gen = train_generator.flow_from_dataframe(dataframe=df_train,\n",
    "                                            directory = train_dir,  \n",
    "                                            x_col=\"image_name\", \n",
    "                                            y_col= df_train.columns.to_list()[2:], \n",
    "                                            subset=\"validation\", \n",
    "                                            batch_size= batch_size,\n",
    "                                            seed=42, \n",
    "                                            shuffle = True, \n",
    "                                            class_mode=\"raw\", \n",
    "                                            target_size=target_size)\n",
    "        return train_gen, val_gen\n",
    "    else:\n",
    "        test_generator = ImageDataGenerator(rescale = 1./255)\n",
    "        test_gen = test_generator.flow_from_dataframe(dataframe=df_test,\n",
    "                                            directory = test_dir,  \n",
    "                                            x_col=\"image_name\", \n",
    "                                            y_col=None, \n",
    "                                            batch_size=batch_size,\n",
    "                                            shuffle=False,\n",
    "                                            class_mode=None, \n",
    "                                            target_size=target_size)\n",
    "        return test_gen"
   ]
  },
  {
   "cell_type": "code",
   "execution_count": 6,
   "id": "05aa0bd6",
   "metadata": {
    "execution": {
     "iopub.execute_input": "2023-01-16T18:27:10.995844Z",
     "iopub.status.busy": "2023-01-16T18:27:10.995146Z",
     "iopub.status.idle": "2023-01-16T18:28:11.168996Z",
     "shell.execute_reply": "2023-01-16T18:28:11.166294Z"
    },
    "papermill": {
     "duration": 60.185137,
     "end_time": "2023-01-16T18:28:11.172492",
     "exception": false,
     "start_time": "2023-01-16T18:27:10.987355",
     "status": "completed"
    },
    "tags": []
   },
   "outputs": [
    {
     "name": "stdout",
     "output_type": "stream",
     "text": [
      "Found 32384 validated image filenames.\n",
      "Found 8095 validated image filenames.\n"
     ]
    }
   ],
   "source": [
    "train, val = img_generator()"
   ]
  },
  {
   "cell_type": "markdown",
   "id": "b5a01cd6",
   "metadata": {
    "papermill": {
     "duration": 0.008626,
     "end_time": "2023-01-16T18:28:11.188092",
     "exception": false,
     "start_time": "2023-01-16T18:28:11.179466",
     "status": "completed"
    },
    "tags": []
   },
   "source": [
    "Hyperparameters"
   ]
  },
  {
   "cell_type": "code",
   "execution_count": 7,
   "id": "dcdc7265",
   "metadata": {
    "execution": {
     "iopub.execute_input": "2023-01-16T18:28:11.205027Z",
     "iopub.status.busy": "2023-01-16T18:28:11.204038Z",
     "iopub.status.idle": "2023-01-16T18:28:11.590872Z",
     "shell.execute_reply": "2023-01-16T18:28:11.589075Z"
    },
    "papermill": {
     "duration": 0.399628,
     "end_time": "2023-01-16T18:28:11.594425",
     "exception": false,
     "start_time": "2023-01-16T18:28:11.194797",
     "status": "completed"
    },
    "tags": []
   },
   "outputs": [
    {
     "name": "stderr",
     "output_type": "stream",
     "text": [
      "2023-01-16 18:28:11.278002: I tensorflow/core/common_runtime/process_util.cc:146] Creating new thread pool with default inter op setting: 2. Tune using inter_op_parallelism_threads for best performance.\n"
     ]
    }
   ],
   "source": [
    "model = Sequential()\n",
    "#input layer\n",
    "model.add(BatchNormalization(input_shape=(128, 128, 3)))\n",
    "model.add(Conv2D(32, kernel_size=(3, 3), padding='same', activation='relu'))\n",
    "model.add(Conv2D(32, kernel_size=(3, 3), activation='relu'))\n",
    "model.add(MaxPooling2D(pool_size=(2, 2)))\n",
    "model.add(Dropout(0.2))\n",
    "\n",
    "#Hidden layers\n",
    "model.add(Conv2D(64, kernel_size=(3, 3), padding='same', activation='relu'))\n",
    "model.add(Conv2D(64, kernel_size=(3, 3), activation='relu'))\n",
    "model.add(MaxPooling2D(pool_size=(2, 2)))\n",
    "model.add(Dropout(0.2))\n",
    "\n",
    "model.add(Conv2D(128, kernel_size=(3, 3), padding='same', activation='relu'))\n",
    "model.add(Conv2D(128, kernel_size=(3, 3), activation='relu'))\n",
    "model.add(MaxPooling2D(pool_size=(2, 2)))\n",
    "model.add(Dropout(0.2))\n",
    "\n",
    "model.add(Conv2D(256, kernel_size=(3, 3), padding='same', activation='relu'))\n",
    "model.add(Conv2D(256, kernel_size=(3, 3), activation='relu'))\n",
    "model.add(MaxPooling2D(pool_size=(2, 2)))\n",
    "model.add(Dropout(0.2))\n",
    "\n",
    "model.add(Flatten())\n",
    "model.add(Dense(512, activation='relu'))\n",
    "model.add(Dropout(0.5))\n",
    "\n",
    "#Output layer\n",
    "model.add(Dense(17, activation='sigmoid'))"
   ]
  },
  {
   "cell_type": "code",
   "execution_count": 8,
   "id": "65e796d7",
   "metadata": {
    "execution": {
     "iopub.execute_input": "2023-01-16T18:28:11.609345Z",
     "iopub.status.busy": "2023-01-16T18:28:11.608889Z",
     "iopub.status.idle": "2023-01-16T18:28:11.614707Z",
     "shell.execute_reply": "2023-01-16T18:28:11.613314Z"
    },
    "papermill": {
     "duration": 0.016197,
     "end_time": "2023-01-16T18:28:11.617202",
     "exception": false,
     "start_time": "2023-01-16T18:28:11.601005",
     "status": "completed"
    },
    "tags": []
   },
   "outputs": [],
   "source": [
    "train_steps = train.n // train.batch_size\n",
    "val_steps = val.n // train.batch_size"
   ]
  },
  {
   "cell_type": "code",
   "execution_count": 9,
   "id": "08c901d2",
   "metadata": {
    "execution": {
     "iopub.execute_input": "2023-01-16T18:28:11.632679Z",
     "iopub.status.busy": "2023-01-16T18:28:11.631414Z",
     "iopub.status.idle": "2023-01-16T18:28:11.645091Z",
     "shell.execute_reply": "2023-01-16T18:28:11.643753Z"
    },
    "papermill": {
     "duration": 0.024137,
     "end_time": "2023-01-16T18:28:11.647777",
     "exception": false,
     "start_time": "2023-01-16T18:28:11.623640",
     "status": "completed"
    },
    "tags": []
   },
   "outputs": [],
   "source": [
    "def fbeta_score(y_true, y_pred, beta = 2, epsilon = 1e-4):\n",
    "    beta_squared = beta**2\n",
    "    \n",
    "    y_true = tf.cast(y_true, tf.float32)\n",
    "    y_pred = tf.cast(tf.greater(tf.cast(y_pred, tf.float32), tf.constant(0.5)), tf.float32)\n",
    "    \n",
    "    tp = tf.reduce_sum(y_true * y_pred, axis = 1)\n",
    "    fp = tf.reduce_sum(y_pred, axis = 1) - tp\n",
    "    fn = tf.reduce_sum(y_true, axis = 1) - tp\n",
    "    \n",
    "    precision = tp/(tp +fp +epsilon)\n",
    "    recall = tp/(tp + fn + epsilon)\n",
    "    \n",
    "    return (1 + beta_squared) * precision * recall / (beta_squared * precision + recall + epsilon)\n",
    "\n",
    "def accuracy(y_true, y_pred, epsilon = 1e-4):\n",
    "    y_true = tf.cast(y_true, tf.float32)\n",
    "    y_pred = tf.cast(tf.greater(tf.cast(y_pred, tf.float32), tf.constant(0.5)), tf.float32)\n",
    "    \n",
    "    tp = tf.reduce_sum(y_true * y_pred, axis = 1)\n",
    "    fp = tf.reduce_sum(y_pred, axis = 1) - tp\n",
    "    fn = tf.reduce_sum(y_true, axis = 1) - tp\n",
    "    \n",
    "    y_true = tf.cast(y_true, tf.bool)\n",
    "    y_pred = tf.cast(y_pred, tf.bool)\n",
    "        \n",
    "    tn = tf.reduce_sum(tf.cast(tf.logical_not(y_true), tf.float32) * tf.cast(tf.logical_not(y_pred), tf.float32),                 axis = 1)\n",
    "    return (tp + tn)/(tp + tn + fp + fn + epsilon)"
   ]
  },
  {
   "cell_type": "code",
   "execution_count": 10,
   "id": "5e97df7e",
   "metadata": {
    "execution": {
     "iopub.execute_input": "2023-01-16T18:28:11.662754Z",
     "iopub.status.busy": "2023-01-16T18:28:11.662310Z",
     "iopub.status.idle": "2023-01-16T18:28:11.681611Z",
     "shell.execute_reply": "2023-01-16T18:28:11.680226Z"
    },
    "papermill": {
     "duration": 0.030012,
     "end_time": "2023-01-16T18:28:11.684222",
     "exception": false,
     "start_time": "2023-01-16T18:28:11.654210",
     "status": "completed"
    },
    "tags": []
   },
   "outputs": [],
   "source": [
    "model.compile(loss='binary_crossentropy',\n",
    "              optimizer='adam',\n",
    "              metrics=[fbeta_score,accuracy])\n",
    "\n",
    "# Save the callback\n",
    "callback = EarlyStopping(\n",
    "    monitor=\"val_loss\", \n",
    "    patience=2,\n",
    "    verbose=0,\n",
    "    baseline=None,\n",
    "    restore_best_weights=True,\n",
    ")"
   ]
  },
  {
   "cell_type": "code",
   "execution_count": 11,
   "id": "7e27ad3c",
   "metadata": {
    "execution": {
     "iopub.execute_input": "2023-01-16T18:28:11.699359Z",
     "iopub.status.busy": "2023-01-16T18:28:11.698614Z",
     "iopub.status.idle": "2023-01-16T20:44:09.330520Z",
     "shell.execute_reply": "2023-01-16T20:44:09.329299Z"
    },
    "papermill": {
     "duration": 8157.642772,
     "end_time": "2023-01-16T20:44:09.333372",
     "exception": false,
     "start_time": "2023-01-16T18:28:11.690600",
     "status": "completed"
    },
    "tags": []
   },
   "outputs": [
    {
     "name": "stderr",
     "output_type": "stream",
     "text": [
      "2023-01-16 18:28:12.573791: I tensorflow/compiler/mlir/mlir_graph_optimization_pass.cc:185] None of the MLIR Optimization Passes are enabled (registered 2)\n"
     ]
    },
    {
     "name": "stdout",
     "output_type": "stream",
     "text": [
      "Epoch 1/5\n",
      "253/253 [==============================] - 1605s 6s/step - loss: 0.2332 - fbeta_score: 0.6819 - accuracy: 0.9114 - val_loss: 0.2192 - val_fbeta_score: 0.6734 - val_accuracy: 0.9138\n",
      "Epoch 2/5\n",
      "253/253 [==============================] - 1591s 6s/step - loss: 0.1662 - fbeta_score: 0.7841 - accuracy: 0.9351 - val_loss: 0.1488 - val_fbeta_score: 0.7886 - val_accuracy: 0.9403\n",
      "Epoch 3/5\n",
      "253/253 [==============================] - 1587s 6s/step - loss: 0.1492 - fbeta_score: 0.8035 - accuracy: 0.9405 - val_loss: 0.1376 - val_fbeta_score: 0.8210 - val_accuracy: 0.9457\n",
      "Epoch 4/5\n",
      "253/253 [==============================] - 1586s 6s/step - loss: 0.1407 - fbeta_score: 0.8148 - accuracy: 0.9437 - val_loss: 0.1322 - val_fbeta_score: 0.8301 - val_accuracy: 0.9465\n",
      "Epoch 5/5\n",
      "253/253 [==============================] - 1584s 6s/step - loss: 0.1343 - fbeta_score: 0.8282 - accuracy: 0.9469 - val_loss: 0.1287 - val_fbeta_score: 0.8501 - val_accuracy: 0.9501\n"
     ]
    }
   ],
   "source": [
    "history = model.fit(x=train,\n",
    "                    steps_per_epoch=train_steps,\n",
    "                    validation_data=val,\n",
    "                    validation_steps=val_steps,\n",
    "                    epochs=5,\n",
    "                    callbacks=[callback]) "
   ]
  },
  {
   "cell_type": "code",
   "execution_count": 12,
   "id": "35760540",
   "metadata": {
    "execution": {
     "iopub.execute_input": "2023-01-16T20:44:09.508392Z",
     "iopub.status.busy": "2023-01-16T20:44:09.504910Z",
     "iopub.status.idle": "2023-01-16T20:44:09.611856Z",
     "shell.execute_reply": "2023-01-16T20:44:09.610110Z"
    },
    "papermill": {
     "duration": 0.196707,
     "end_time": "2023-01-16T20:44:09.614702",
     "exception": false,
     "start_time": "2023-01-16T20:44:09.417995",
     "status": "completed"
    },
    "tags": []
   },
   "outputs": [
    {
     "data": {
      "text/html": [
       "<div>\n",
       "<style scoped>\n",
       "    .dataframe tbody tr th:only-of-type {\n",
       "        vertical-align: middle;\n",
       "    }\n",
       "\n",
       "    .dataframe tbody tr th {\n",
       "        vertical-align: top;\n",
       "    }\n",
       "\n",
       "    .dataframe thead th {\n",
       "        text-align: right;\n",
       "    }\n",
       "</style>\n",
       "<table border=\"1\" class=\"dataframe\">\n",
       "  <thead>\n",
       "    <tr style=\"text-align: right;\">\n",
       "      <th></th>\n",
       "      <th>image_name</th>\n",
       "    </tr>\n",
       "  </thead>\n",
       "  <tbody>\n",
       "    <tr>\n",
       "      <th>0</th>\n",
       "      <td>test_0.jpg</td>\n",
       "    </tr>\n",
       "    <tr>\n",
       "      <th>1</th>\n",
       "      <td>test_1.jpg</td>\n",
       "    </tr>\n",
       "    <tr>\n",
       "      <th>2</th>\n",
       "      <td>test_2.jpg</td>\n",
       "    </tr>\n",
       "    <tr>\n",
       "      <th>3</th>\n",
       "      <td>test_3.jpg</td>\n",
       "    </tr>\n",
       "    <tr>\n",
       "      <th>4</th>\n",
       "      <td>test_4.jpg</td>\n",
       "    </tr>\n",
       "  </tbody>\n",
       "</table>\n",
       "</div>"
      ],
      "text/plain": [
       "   image_name\n",
       "0  test_0.jpg\n",
       "1  test_1.jpg\n",
       "2  test_2.jpg\n",
       "3  test_3.jpg\n",
       "4  test_4.jpg"
      ]
     },
     "execution_count": 12,
     "metadata": {},
     "output_type": "execute_result"
    }
   ],
   "source": [
    "#Classifying images\n",
    "submission_df = pd.read_csv(os.path.join(path,'sample_submission.csv'))\n",
    "test_df = submission_df.iloc[:40669]['image_name'].reset_index().drop('index', axis =1)\n",
    "\n",
    "test_df['image_name'] = submission_df['image_name'].apply(lambda x: x+'.jpg')\n",
    "test_df.head()"
   ]
  },
  {
   "cell_type": "code",
   "execution_count": 13,
   "id": "b0aafe5e",
   "metadata": {
    "execution": {
     "iopub.execute_input": "2023-01-16T20:44:09.785951Z",
     "iopub.status.busy": "2023-01-16T20:44:09.785450Z",
     "iopub.status.idle": "2023-01-16T20:45:19.886471Z",
     "shell.execute_reply": "2023-01-16T20:45:19.885472Z"
    },
    "papermill": {
     "duration": 70.277197,
     "end_time": "2023-01-16T20:45:19.976848",
     "exception": false,
     "start_time": "2023-01-16T20:44:09.699651",
     "status": "completed"
    },
    "tags": []
   },
   "outputs": [
    {
     "name": "stdout",
     "output_type": "stream",
     "text": [
      "Found 40669 validated image filenames.\n"
     ]
    }
   ],
   "source": [
    "test_generator = ImageDataGenerator(rescale = 1./255)\n",
    "\n",
    "test_gen = test_generator.flow_from_dataframe(dataframe=test_df,\n",
    "                                            directory = os.path.join(path,'test-jpg'),  \n",
    "                                            x_col=\"image_name\", \n",
    "                                            y_col=None, \n",
    "                                            batch_size=67,\n",
    "                                            shuffle=False,\n",
    "                                            class_mode=None, \n",
    "                                            target_size=(128,128))\n",
    "\n",
    "test_size = test_gen.n // test_gen.batch_size"
   ]
  },
  {
   "cell_type": "code",
   "execution_count": 14,
   "id": "0a5424fe",
   "metadata": {
    "execution": {
     "iopub.execute_input": "2023-01-16T20:45:20.157641Z",
     "iopub.status.busy": "2023-01-16T20:45:20.155942Z",
     "iopub.status.idle": "2023-01-16T20:54:18.050857Z",
     "shell.execute_reply": "2023-01-16T20:54:18.049494Z"
    },
    "papermill": {
     "duration": 537.988408,
     "end_time": "2023-01-16T20:54:18.053734",
     "exception": false,
     "start_time": "2023-01-16T20:45:20.065326",
     "status": "completed"
    },
    "tags": []
   },
   "outputs": [
    {
     "name": "stdout",
     "output_type": "stream",
     "text": [
      "607/607 [==============================] - 537s 885ms/step\n"
     ]
    }
   ],
   "source": [
    "pred = model.predict(test_gen, steps=test_size, verbose=1)"
   ]
  },
  {
   "cell_type": "code",
   "execution_count": 15,
   "id": "75e7193a",
   "metadata": {
    "execution": {
     "iopub.execute_input": "2023-01-16T20:54:18.312776Z",
     "iopub.status.busy": "2023-01-16T20:54:18.312094Z",
     "iopub.status.idle": "2023-01-16T20:54:18.356816Z",
     "shell.execute_reply": "2023-01-16T20:54:18.355386Z"
    },
    "papermill": {
     "duration": 0.176022,
     "end_time": "2023-01-16T20:54:18.359972",
     "exception": false,
     "start_time": "2023-01-16T20:54:18.183950",
     "status": "completed"
    },
    "tags": []
   },
   "outputs": [],
   "source": [
    "labels = df_train['tags'].to_numpy()\n",
    "unique_labels = list()\n",
    "for label in labels:\n",
    "    tags = label.split()\n",
    "    for tag in tags:\n",
    "        if tag not in unique_labels:\n",
    "            unique_labels.append(tag)"
   ]
  },
  {
   "cell_type": "code",
   "execution_count": 16,
   "id": "2e469ed5",
   "metadata": {
    "execution": {
     "iopub.execute_input": "2023-01-16T20:54:18.617626Z",
     "iopub.status.busy": "2023-01-16T20:54:18.617179Z",
     "iopub.status.idle": "2023-01-16T20:54:27.295312Z",
     "shell.execute_reply": "2023-01-16T20:54:27.294213Z"
    },
    "papermill": {
     "duration": 8.810366,
     "end_time": "2023-01-16T20:54:27.298107",
     "exception": false,
     "start_time": "2023-01-16T20:54:18.487741",
     "status": "completed"
    },
    "tags": []
   },
   "outputs": [
    {
     "data": {
      "text/html": [
       "<div>\n",
       "<style scoped>\n",
       "    .dataframe tbody tr th:only-of-type {\n",
       "        vertical-align: middle;\n",
       "    }\n",
       "\n",
       "    .dataframe tbody tr th {\n",
       "        vertical-align: top;\n",
       "    }\n",
       "\n",
       "    .dataframe thead th {\n",
       "        text-align: right;\n",
       "    }\n",
       "</style>\n",
       "<table border=\"1\" class=\"dataframe\">\n",
       "  <thead>\n",
       "    <tr style=\"text-align: right;\">\n",
       "      <th></th>\n",
       "      <th>image_name</th>\n",
       "      <th>tags</th>\n",
       "    </tr>\n",
       "  </thead>\n",
       "  <tbody>\n",
       "    <tr>\n",
       "      <th>0</th>\n",
       "      <td>test_0.jpg</td>\n",
       "      <td>primary clear</td>\n",
       "    </tr>\n",
       "    <tr>\n",
       "      <th>1</th>\n",
       "      <td>test_1.jpg</td>\n",
       "      <td>primary clear</td>\n",
       "    </tr>\n",
       "    <tr>\n",
       "      <th>2</th>\n",
       "      <td>test_2.jpg</td>\n",
       "      <td>primary partly_cloudy</td>\n",
       "    </tr>\n",
       "    <tr>\n",
       "      <th>3</th>\n",
       "      <td>test_3.jpg</td>\n",
       "      <td>primary clear</td>\n",
       "    </tr>\n",
       "    <tr>\n",
       "      <th>4</th>\n",
       "      <td>test_4.jpg</td>\n",
       "      <td>primary partly_cloudy</td>\n",
       "    </tr>\n",
       "  </tbody>\n",
       "</table>\n",
       "</div>"
      ],
      "text/plain": [
       "   image_name                   tags\n",
       "0  test_0.jpg          primary clear\n",
       "1  test_1.jpg          primary clear\n",
       "2  test_2.jpg  primary partly_cloudy\n",
       "3  test_3.jpg          primary clear\n",
       "4  test_4.jpg  primary partly_cloudy"
      ]
     },
     "execution_count": 16,
     "metadata": {},
     "output_type": "execute_result"
    }
   ],
   "source": [
    "test_names = test_gen.filenames \n",
    "        \n",
    "test_result = pd.DataFrame(pred)\n",
    "test_result = test_result.apply(lambda x: ' '.join(np.array(unique_labels)[x >= 0.2]), axis=1)\n",
    "\n",
    "test_result_df = pd.DataFrame({'image_name': test_names, 'tags': test_result})\n",
    "test_result_df.head()"
   ]
  },
  {
   "cell_type": "code",
   "execution_count": 17,
   "id": "20b8d5da",
   "metadata": {
    "execution": {
     "iopub.execute_input": "2023-01-16T20:54:27.541169Z",
     "iopub.status.busy": "2023-01-16T20:54:27.540370Z",
     "iopub.status.idle": "2023-01-16T20:54:27.549146Z",
     "shell.execute_reply": "2023-01-16T20:54:27.547868Z"
    },
    "papermill": {
     "duration": 0.132963,
     "end_time": "2023-01-16T20:54:27.551916",
     "exception": false,
     "start_time": "2023-01-16T20:54:27.418953",
     "status": "completed"
    },
    "tags": []
   },
   "outputs": [],
   "source": [
    "additional_df = submission_df.iloc[40669:]['image_name'].reset_index().drop('index', axis=1)"
   ]
  },
  {
   "cell_type": "code",
   "execution_count": 18,
   "id": "1814e052",
   "metadata": {
    "execution": {
     "iopub.execute_input": "2023-01-16T20:54:27.794374Z",
     "iopub.status.busy": "2023-01-16T20:54:27.793956Z",
     "iopub.status.idle": "2023-01-16T20:54:27.812726Z",
     "shell.execute_reply": "2023-01-16T20:54:27.811795Z"
    },
    "papermill": {
     "duration": 0.14269,
     "end_time": "2023-01-16T20:54:27.815037",
     "exception": false,
     "start_time": "2023-01-16T20:54:27.672347",
     "status": "completed"
    },
    "tags": []
   },
   "outputs": [
    {
     "data": {
      "text/html": [
       "<div>\n",
       "<style scoped>\n",
       "    .dataframe tbody tr th:only-of-type {\n",
       "        vertical-align: middle;\n",
       "    }\n",
       "\n",
       "    .dataframe tbody tr th {\n",
       "        vertical-align: top;\n",
       "    }\n",
       "\n",
       "    .dataframe thead th {\n",
       "        text-align: right;\n",
       "    }\n",
       "</style>\n",
       "<table border=\"1\" class=\"dataframe\">\n",
       "  <thead>\n",
       "    <tr style=\"text-align: right;\">\n",
       "      <th></th>\n",
       "      <th>image_name</th>\n",
       "    </tr>\n",
       "  </thead>\n",
       "  <tbody>\n",
       "    <tr>\n",
       "      <th>0</th>\n",
       "      <td>file_0.jpg</td>\n",
       "    </tr>\n",
       "    <tr>\n",
       "      <th>1</th>\n",
       "      <td>file_1.jpg</td>\n",
       "    </tr>\n",
       "    <tr>\n",
       "      <th>2</th>\n",
       "      <td>file_10.jpg</td>\n",
       "    </tr>\n",
       "    <tr>\n",
       "      <th>3</th>\n",
       "      <td>file_100.jpg</td>\n",
       "    </tr>\n",
       "    <tr>\n",
       "      <th>4</th>\n",
       "      <td>file_1000.jpg</td>\n",
       "    </tr>\n",
       "  </tbody>\n",
       "</table>\n",
       "</div>"
      ],
      "text/plain": [
       "      image_name\n",
       "0     file_0.jpg\n",
       "1     file_1.jpg\n",
       "2    file_10.jpg\n",
       "3   file_100.jpg\n",
       "4  file_1000.jpg"
      ]
     },
     "execution_count": 18,
     "metadata": {},
     "output_type": "execute_result"
    }
   ],
   "source": [
    "additional_df['image_name'] = additional_df['image_name'].apply(lambda x: '{}.jpg'.format(x))\n",
    "additional_df.head()"
   ]
  },
  {
   "cell_type": "code",
   "execution_count": 19,
   "id": "4ce2a29d",
   "metadata": {
    "execution": {
     "iopub.execute_input": "2023-01-16T20:54:28.058852Z",
     "iopub.status.busy": "2023-01-16T20:54:28.057695Z",
     "iopub.status.idle": "2023-01-16T20:54:45.293893Z",
     "shell.execute_reply": "2023-01-16T20:54:45.292516Z"
    },
    "papermill": {
     "duration": 17.361283,
     "end_time": "2023-01-16T20:54:45.296943",
     "exception": false,
     "start_time": "2023-01-16T20:54:27.935660",
     "status": "completed"
    },
    "tags": []
   },
   "outputs": [
    {
     "name": "stdout",
     "output_type": "stream",
     "text": [
      "Found 20522 validated image filenames.\n"
     ]
    }
   ],
   "source": [
    "additional_gen = test_generator.flow_from_dataframe(dataframe=additional_df,\n",
    "                                                  directory=\"../input/planets-dataset/test-jpg-additional/test-jpg-additional\", \n",
    "                                                  x_col='image_name',\n",
    "                                                  y_col = None,\n",
    "                                                  batch_size=62,\n",
    "                                                  shuffle=False,\n",
    "                                                  class_mode=None, \n",
    "                                                  target_size=(128, 128))\n",
    "\n",
    "\n",
    "additional_step = additional_gen.n // additional_gen.batch_size"
   ]
  },
  {
   "cell_type": "code",
   "execution_count": 20,
   "id": "8dbd5142",
   "metadata": {
    "execution": {
     "iopub.execute_input": "2023-01-16T20:54:45.540442Z",
     "iopub.status.busy": "2023-01-16T20:54:45.540012Z",
     "iopub.status.idle": "2023-01-16T20:59:17.326830Z",
     "shell.execute_reply": "2023-01-16T20:59:17.325841Z"
    },
    "papermill": {
     "duration": 271.911263,
     "end_time": "2023-01-16T20:59:17.329209",
     "exception": false,
     "start_time": "2023-01-16T20:54:45.417946",
     "status": "completed"
    },
    "tags": []
   },
   "outputs": [
    {
     "name": "stdout",
     "output_type": "stream",
     "text": [
      "331/331 [==============================] - 271s 819ms/step\n"
     ]
    }
   ],
   "source": [
    "pred_additional = model.predict(additional_gen, steps=additional_step, verbose=1)"
   ]
  },
  {
   "cell_type": "code",
   "execution_count": 21,
   "id": "70afc7ab",
   "metadata": {
    "execution": {
     "iopub.execute_input": "2023-01-16T20:59:17.612106Z",
     "iopub.status.busy": "2023-01-16T20:59:17.611306Z",
     "iopub.status.idle": "2023-01-16T20:59:22.123022Z",
     "shell.execute_reply": "2023-01-16T20:59:22.121795Z"
    },
    "papermill": {
     "duration": 4.657422,
     "end_time": "2023-01-16T20:59:22.125548",
     "exception": false,
     "start_time": "2023-01-16T20:59:17.468126",
     "status": "completed"
    },
    "tags": []
   },
   "outputs": [
    {
     "data": {
      "text/html": [
       "<div>\n",
       "<style scoped>\n",
       "    .dataframe tbody tr th:only-of-type {\n",
       "        vertical-align: middle;\n",
       "    }\n",
       "\n",
       "    .dataframe tbody tr th {\n",
       "        vertical-align: top;\n",
       "    }\n",
       "\n",
       "    .dataframe thead th {\n",
       "        text-align: right;\n",
       "    }\n",
       "</style>\n",
       "<table border=\"1\" class=\"dataframe\">\n",
       "  <thead>\n",
       "    <tr style=\"text-align: right;\">\n",
       "      <th></th>\n",
       "      <th>image_name</th>\n",
       "      <th>tags</th>\n",
       "    </tr>\n",
       "  </thead>\n",
       "  <tbody>\n",
       "    <tr>\n",
       "      <th>0</th>\n",
       "      <td>file_0.jpg</td>\n",
       "      <td>primary clear</td>\n",
       "    </tr>\n",
       "    <tr>\n",
       "      <th>1</th>\n",
       "      <td>file_1.jpg</td>\n",
       "      <td>primary agriculture clear habitation road cult...</td>\n",
       "    </tr>\n",
       "    <tr>\n",
       "      <th>2</th>\n",
       "      <td>file_10.jpg</td>\n",
       "      <td>haze primary agriculture clear water road</td>\n",
       "    </tr>\n",
       "    <tr>\n",
       "      <th>3</th>\n",
       "      <td>file_100.jpg</td>\n",
       "      <td>primary agriculture clear water cultivation</td>\n",
       "    </tr>\n",
       "    <tr>\n",
       "      <th>4</th>\n",
       "      <td>file_1000.jpg</td>\n",
       "      <td>primary clear</td>\n",
       "    </tr>\n",
       "  </tbody>\n",
       "</table>\n",
       "</div>"
      ],
      "text/plain": [
       "      image_name                                               tags\n",
       "0     file_0.jpg                                      primary clear\n",
       "1     file_1.jpg  primary agriculture clear habitation road cult...\n",
       "2    file_10.jpg          haze primary agriculture clear water road\n",
       "3   file_100.jpg        primary agriculture clear water cultivation\n",
       "4  file_1000.jpg                                      primary clear"
      ]
     },
     "execution_count": 21,
     "metadata": {},
     "output_type": "execute_result"
    }
   ],
   "source": [
    "additional_names = additional_gen.filenames \n",
    "        \n",
    "additional_result = pd.DataFrame(pred_additional)\n",
    "additional_result = additional_result.apply(lambda x: ' '.join(np.array(unique_labels)[x >= 0.2]), axis=1)\n",
    "\n",
    "additional_result_df = pd.DataFrame({'image_name': additional_names, 'tags': additional_result})\n",
    "additional_result_df.head()"
   ]
  },
  {
   "cell_type": "code",
   "execution_count": 22,
   "id": "629a356f",
   "metadata": {
    "execution": {
     "iopub.execute_input": "2023-01-16T20:59:22.412699Z",
     "iopub.status.busy": "2023-01-16T20:59:22.412019Z",
     "iopub.status.idle": "2023-01-16T20:59:22.432951Z",
     "shell.execute_reply": "2023-01-16T20:59:22.431767Z"
    },
    "papermill": {
     "duration": 0.167823,
     "end_time": "2023-01-16T20:59:22.435310",
     "exception": false,
     "start_time": "2023-01-16T20:59:22.267487",
     "status": "completed"
    },
    "tags": []
   },
   "outputs": [
    {
     "data": {
      "text/html": [
       "<div>\n",
       "<style scoped>\n",
       "    .dataframe tbody tr th:only-of-type {\n",
       "        vertical-align: middle;\n",
       "    }\n",
       "\n",
       "    .dataframe tbody tr th {\n",
       "        vertical-align: top;\n",
       "    }\n",
       "\n",
       "    .dataframe thead th {\n",
       "        text-align: right;\n",
       "    }\n",
       "</style>\n",
       "<table border=\"1\" class=\"dataframe\">\n",
       "  <thead>\n",
       "    <tr style=\"text-align: right;\">\n",
       "      <th></th>\n",
       "      <th>image_name</th>\n",
       "      <th>tags</th>\n",
       "    </tr>\n",
       "  </thead>\n",
       "  <tbody>\n",
       "    <tr>\n",
       "      <th>0</th>\n",
       "      <td>test_0.jpg</td>\n",
       "      <td>primary clear</td>\n",
       "    </tr>\n",
       "    <tr>\n",
       "      <th>1</th>\n",
       "      <td>test_1.jpg</td>\n",
       "      <td>primary clear</td>\n",
       "    </tr>\n",
       "    <tr>\n",
       "      <th>2</th>\n",
       "      <td>test_2.jpg</td>\n",
       "      <td>primary partly_cloudy</td>\n",
       "    </tr>\n",
       "    <tr>\n",
       "      <th>3</th>\n",
       "      <td>test_3.jpg</td>\n",
       "      <td>primary clear</td>\n",
       "    </tr>\n",
       "    <tr>\n",
       "      <th>4</th>\n",
       "      <td>test_4.jpg</td>\n",
       "      <td>primary partly_cloudy</td>\n",
       "    </tr>\n",
       "    <tr>\n",
       "      <th>...</th>\n",
       "      <td>...</td>\n",
       "      <td>...</td>\n",
       "    </tr>\n",
       "    <tr>\n",
       "      <th>61186</th>\n",
       "      <td>file_9995.jpg</td>\n",
       "      <td>primary cloudy</td>\n",
       "    </tr>\n",
       "    <tr>\n",
       "      <th>61187</th>\n",
       "      <td>file_9996.jpg</td>\n",
       "      <td>primary agriculture clear water road</td>\n",
       "    </tr>\n",
       "    <tr>\n",
       "      <th>61188</th>\n",
       "      <td>file_9997.jpg</td>\n",
       "      <td>primary clear</td>\n",
       "    </tr>\n",
       "    <tr>\n",
       "      <th>61189</th>\n",
       "      <td>file_9998.jpg</td>\n",
       "      <td>haze primary cloudy</td>\n",
       "    </tr>\n",
       "    <tr>\n",
       "      <th>61190</th>\n",
       "      <td>file_9999.jpg</td>\n",
       "      <td>primary agriculture clear habitation road</td>\n",
       "    </tr>\n",
       "  </tbody>\n",
       "</table>\n",
       "<p>61191 rows × 2 columns</p>\n",
       "</div>"
      ],
      "text/plain": [
       "          image_name                                       tags\n",
       "0         test_0.jpg                              primary clear\n",
       "1         test_1.jpg                              primary clear\n",
       "2         test_2.jpg                      primary partly_cloudy\n",
       "3         test_3.jpg                              primary clear\n",
       "4         test_4.jpg                      primary partly_cloudy\n",
       "...              ...                                        ...\n",
       "61186  file_9995.jpg                             primary cloudy\n",
       "61187  file_9996.jpg       primary agriculture clear water road\n",
       "61188  file_9997.jpg                              primary clear\n",
       "61189  file_9998.jpg                        haze primary cloudy\n",
       "61190  file_9999.jpg  primary agriculture clear habitation road\n",
       "\n",
       "[61191 rows x 2 columns]"
      ]
     },
     "execution_count": 22,
     "metadata": {},
     "output_type": "execute_result"
    }
   ],
   "source": [
    "final_df = pd.concat([test_result_df, additional_result_df])\n",
    "final_df = final_df.reset_index().drop('index', axis =1)\n",
    "final_df"
   ]
  },
  {
   "cell_type": "code",
   "execution_count": 23,
   "id": "e4bb7df3",
   "metadata": {
    "execution": {
     "iopub.execute_input": "2023-01-16T20:59:22.794832Z",
     "iopub.status.busy": "2023-01-16T20:59:22.794266Z",
     "iopub.status.idle": "2023-01-16T20:59:22.830865Z",
     "shell.execute_reply": "2023-01-16T20:59:22.830057Z"
    },
    "papermill": {
     "duration": 0.255407,
     "end_time": "2023-01-16T20:59:22.833090",
     "exception": false,
     "start_time": "2023-01-16T20:59:22.577683",
     "status": "completed"
    },
    "tags": []
   },
   "outputs": [
    {
     "data": {
      "text/html": [
       "<div>\n",
       "<style scoped>\n",
       "    .dataframe tbody tr th:only-of-type {\n",
       "        vertical-align: middle;\n",
       "    }\n",
       "\n",
       "    .dataframe tbody tr th {\n",
       "        vertical-align: top;\n",
       "    }\n",
       "\n",
       "    .dataframe thead th {\n",
       "        text-align: right;\n",
       "    }\n",
       "</style>\n",
       "<table border=\"1\" class=\"dataframe\">\n",
       "  <thead>\n",
       "    <tr style=\"text-align: right;\">\n",
       "      <th></th>\n",
       "      <th>image_name</th>\n",
       "      <th>tags</th>\n",
       "    </tr>\n",
       "  </thead>\n",
       "  <tbody>\n",
       "    <tr>\n",
       "      <th>0</th>\n",
       "      <td>test_0</td>\n",
       "      <td>primary clear</td>\n",
       "    </tr>\n",
       "    <tr>\n",
       "      <th>1</th>\n",
       "      <td>test_1</td>\n",
       "      <td>primary clear</td>\n",
       "    </tr>\n",
       "    <tr>\n",
       "      <th>2</th>\n",
       "      <td>test_2</td>\n",
       "      <td>primary partly_cloudy</td>\n",
       "    </tr>\n",
       "    <tr>\n",
       "      <th>3</th>\n",
       "      <td>test_3</td>\n",
       "      <td>primary clear</td>\n",
       "    </tr>\n",
       "    <tr>\n",
       "      <th>4</th>\n",
       "      <td>test_4</td>\n",
       "      <td>primary partly_cloudy</td>\n",
       "    </tr>\n",
       "    <tr>\n",
       "      <th>...</th>\n",
       "      <td>...</td>\n",
       "      <td>...</td>\n",
       "    </tr>\n",
       "    <tr>\n",
       "      <th>61186</th>\n",
       "      <td>file_9995</td>\n",
       "      <td>primary cloudy</td>\n",
       "    </tr>\n",
       "    <tr>\n",
       "      <th>61187</th>\n",
       "      <td>file_9996</td>\n",
       "      <td>primary agriculture clear water road</td>\n",
       "    </tr>\n",
       "    <tr>\n",
       "      <th>61188</th>\n",
       "      <td>file_9997</td>\n",
       "      <td>primary clear</td>\n",
       "    </tr>\n",
       "    <tr>\n",
       "      <th>61189</th>\n",
       "      <td>file_9998</td>\n",
       "      <td>haze primary cloudy</td>\n",
       "    </tr>\n",
       "    <tr>\n",
       "      <th>61190</th>\n",
       "      <td>file_9999</td>\n",
       "      <td>primary agriculture clear habitation road</td>\n",
       "    </tr>\n",
       "  </tbody>\n",
       "</table>\n",
       "<p>61191 rows × 2 columns</p>\n",
       "</div>"
      ],
      "text/plain": [
       "      image_name                                       tags\n",
       "0         test_0                              primary clear\n",
       "1         test_1                              primary clear\n",
       "2         test_2                      primary partly_cloudy\n",
       "3         test_3                              primary clear\n",
       "4         test_4                      primary partly_cloudy\n",
       "...          ...                                        ...\n",
       "61186  file_9995                             primary cloudy\n",
       "61187  file_9996       primary agriculture clear water road\n",
       "61188  file_9997                              primary clear\n",
       "61189  file_9998                        haze primary cloudy\n",
       "61190  file_9999  primary agriculture clear habitation road\n",
       "\n",
       "[61191 rows x 2 columns]"
      ]
     },
     "execution_count": 23,
     "metadata": {},
     "output_type": "execute_result"
    }
   ],
   "source": [
    "final_df['image_name'] = final_df['image_name'].apply(lambda x: x.replace('.jpg',''))\n",
    "final_df"
   ]
  },
  {
   "cell_type": "code",
   "execution_count": 24,
   "id": "4ca46a5c",
   "metadata": {
    "execution": {
     "iopub.execute_input": "2023-01-16T20:59:23.122855Z",
     "iopub.status.busy": "2023-01-16T20:59:23.122149Z",
     "iopub.status.idle": "2023-01-16T20:59:23.232890Z",
     "shell.execute_reply": "2023-01-16T20:59:23.231608Z"
    },
    "papermill": {
     "duration": 0.258811,
     "end_time": "2023-01-16T20:59:23.235410",
     "exception": false,
     "start_time": "2023-01-16T20:59:22.976599",
     "status": "completed"
    },
    "tags": []
   },
   "outputs": [],
   "source": [
    "final_df.to_csv('submission.csv', index=False)"
   ]
  }
 ],
 "metadata": {
  "kernelspec": {
   "display_name": "Python 3",
   "language": "python",
   "name": "python3"
  },
  "language_info": {
   "codemirror_mode": {
    "name": "ipython",
    "version": 3
   },
   "file_extension": ".py",
   "mimetype": "text/x-python",
   "name": "python",
   "nbconvert_exporter": "python",
   "pygments_lexer": "ipython3",
   "version": "3.7.12"
  },
  "papermill": {
   "default_parameters": {},
   "duration": 9155.432647,
   "end_time": "2023-01-16T20:59:26.317882",
   "environment_variables": {},
   "exception": null,
   "input_path": "__notebook__.ipynb",
   "output_path": "__notebook__.ipynb",
   "parameters": {},
   "start_time": "2023-01-16T18:26:50.885235",
   "version": "2.3.4"
  }
 },
 "nbformat": 4,
 "nbformat_minor": 5
}
